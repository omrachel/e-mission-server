{
 "cells": [
  {
   "cell_type": "code",
   "execution_count": null,
   "metadata": {
    "collapsed": true
   },
   "outputs": [],
   "source": [
    "#this notebook exports emission data to csv after loading emission data (downloaded from the CCI server) to your local server\n",
    "\n",
    "#set up working environment\n",
    "import emission.core.get_database as edb\n",
    "import pandas as pd\n",
    "import numpy as np\n",
    "import re\n",
    "\n",
    "#view all users in the \n",
    "all_users = pd.DataFrame(list(edb.get_uuid_db().find({},{\"user_email\":1, \"uuid\": 1, \"_id\": 0})))\n",
    "all_users"
   ]
  },
  {
   "cell_type": "code",
   "execution_count": null,
   "metadata": {
    "collapsed": true
   },
   "outputs": [],
   "source": [
    "from uuid import UUID"
   ]
  },
  {
   "cell_type": "code",
   "execution_count": null,
   "metadata": {
    "collapsed": true
   },
   "outputs": [],
   "source": [
    "import emission.storage.timeseries.abstract_timeseries as esta\n",
    "import emission.storage.decorations.analysis_timeseries_queries as esda\n",
    "import emission.core.wrapper.entry as ecwe\n",
    "import emission.storage.decorations.trip_queries as esdt\n",
    "import emission.storage.timeseries.timequery as estt"
   ]
  },
  {
   "cell_type": "code",
   "execution_count": null,
   "metadata": {
    "collapsed": true
   },
   "outputs": [],
   "source": [
    "import arrow\n",
    "\n",
    "#iterate through each token to create a table of emission data\n",
    "frames = []\n",
    "for test_user_id in all_users.uuid:\n",
    "    ts = esta.TimeSeries.get_time_series(test_user_id)\n",
    "    #get all cleaned trips for user\n",
    "    entry_it = ts.find_entries([\"analysis/cleaned_trip\"], time_query=None)\n",
    "    print(\"User %s had %d trips\" % (test_user_id, len(list(entry_it))))\n",
    "    #get all cleaned trip data for the user\n",
    "    #ct_df = ts.get_data_df(\"analysis/cleaned_trip\", time_query=None)\n",
    "    #get all cleaned section data for the user - we use sections in order to get mode\n",
    "    cs_df = ts.get_data_df(\"analysis/cleaned_section\", time_query=None)\n",
    "    frames.append(cs_df.iloc[:, ::-1])\n",
    "\n",
    "sections = pd.concat(frames).reset_index().drop('index', axis=1).rename(columns={'user_id': 'uuid'})\n",
    "\n",
    "sections"
   ]
  },
  {
   "cell_type": "code",
   "execution_count": null,
   "metadata": {
    "collapsed": true
   },
   "outputs": [],
   "source": [
    "#function to include token with uuid\n",
    "def createMappings(file_name, current_users):\n",
    "    tokens=pd.read_csv(file_name)\n",
    "    tokens=tokens.drop([\"Unnamed: 0\"], axis=1)\n",
    "    current_users[\"uuid_str\"]=np.array([str(i) for i in current_users[\"uuid\"]])\n",
    "    joined_table=current_users.merge(tokens, left_on='uuid_str', right_on='uuid')\n",
    "    joined_table=joined_table.drop([\"uuid_str\",\"uuid_y\",\"user_email_x\"], axis=1)\n",
    "    joined_table=joined_table.rename(index=str, columns={\"user_email_y\":\"Token\",\"uuid_x\":\"uuid\"})\n",
    "    return joined_table"
   ]
  },
  {
   "cell_type": "code",
   "execution_count": null,
   "metadata": {
    "collapsed": true
   },
   "outputs": [],
   "source": [
    "#the csv was generated while downloading data from the original server\n",
    "tokens = createMappings(\"servertokens_0717.csv\", all_users)\n",
    "tokens"
   ]
  },
  {
   "cell_type": "code",
   "execution_count": null,
   "metadata": {
    "collapsed": true
   },
   "outputs": [],
   "source": [
    "#join tokens to sections table\n",
    "table_with_tokens = pd.merge(sections, tokens, how='left', on= 'uuid')\n",
    "cols = table_with_tokens.columns.tolist()\n",
    "cols= cols[-1:] + cols[:-1]\n",
    "sections_with_tokens = table_with_tokens[cols]"
   ]
  },
  {
   "cell_type": "code",
   "execution_count": null,
   "metadata": {
    "collapsed": true
   },
   "outputs": [],
   "source": [
    "#separate start lat/lon\n",
    "start_loc_lat= []\n",
    "start_loc_lon= []\n",
    "\n",
    "for i in (sections_with_tokens['start_loc']):\n",
    "    start_loc_lon.append(re.findall(r\"-?\\d+\\.\\d+\", str(i))[0])\n",
    "    start_loc_lat.append(re.findall(r\"-?\\d+\\.\\d+\", str(i))[1])\n",
    "    \n",
    "sections_with_tokens['start_loc_lat']= start_loc_lat\n",
    "sections_with_tokens['start_loc_lon']= start_loc_lon"
   ]
  },
  {
   "cell_type": "code",
   "execution_count": null,
   "metadata": {
    "collapsed": true
   },
   "outputs": [],
   "source": [
    "#separate end lat/lon\n",
    "end_loc_lat= []\n",
    "end_loc_lon= []\n",
    "\n",
    "for i in (sections_with_tokens['end_loc']):\n",
    "    end_loc_lon.append(re.findall(r\"-?\\d+\\.\\d+\", str(i))[0])\n",
    "    end_loc_lat.append(re.findall(r\"-?\\d+\\.\\d+\", str(i))[1])\n",
    "    \n",
    "sections_with_tokens['end_loc_lat']= end_loc_lat\n",
    "sections_with_tokens['end_loc_lon']= end_loc_lon"
   ]
  },
  {
   "cell_type": "code",
   "execution_count": null,
   "metadata": {
    "collapsed": true
   },
   "outputs": [],
   "source": [
    "#add new lat/lon columns to data frame\n",
    "sections_tokens = sections_with_tokens.drop(['start_loc', 'end_loc','_id'], axis=1)\n",
    "cols = sections_tokens.columns.tolist()\n",
    "cols= cols[0:12]+ cols[-4:-2] + cols[12:26] + cols[-2:]+ cols[26:-4]\n",
    "sections_1 = sections_tokens[cols]\n",
    "sections_1"
   ]
  },
  {
   "cell_type": "code",
   "execution_count": null,
   "metadata": {
    "collapsed": true
   },
   "outputs": [],
   "source": [
    "#convert duration from seconds into minutes\n",
    "sections_1['duration']= round(sections_1['duration']/60, 2)\n",
    "\n",
    "#convert distance into kilometers\n",
    "sections_1['distance'] = sections_1['distance']/1000"
   ]
  },
  {
   "cell_type": "code",
   "execution_count": null,
   "metadata": {
    "collapsed": true
   },
   "outputs": [],
   "source": [
    "#replace sensed_mode with actual mode\n",
    "mode = pd.read_csv(\"sensed_mode.csv\")\n",
    "df_with_mode = sections_1.merge(mode,on='sensed_mode')\n",
    "df_with_mode"
   ]
  },
  {
   "cell_type": "code",
   "execution_count": null,
   "metadata": {
    "collapsed": true
   },
   "outputs": [],
   "source": [
    "#indicate if trip is made on a weekday\n",
    "weekday = pd.read_csv(\"weekday.csv\")\n",
    "emission_table = df_with_mode.merge(weekday,on='start_local_dt_weekday')\n",
    "emission_table"
   ]
  },
  {
   "cell_type": "code",
   "execution_count": null,
   "metadata": {
    "collapsed": true
   },
   "outputs": [],
   "source": [
    "#export to csv\n",
    "emission_table.to_csv(\"emission_sections_0717.csv\")"
   ]
  },
  {
   "cell_type": "code",
   "execution_count": null,
   "metadata": {
    "collapsed": true
   },
   "outputs": [],
   "source": []
  },
  {
   "cell_type": "code",
   "execution_count": null,
   "metadata": {
    "collapsed": true
   },
   "outputs": [],
   "source": []
  },
  {
   "cell_type": "code",
   "execution_count": null,
   "metadata": {
    "collapsed": true
   },
   "outputs": [],
   "source": []
  },
  {
   "cell_type": "code",
   "execution_count": null,
   "metadata": {
    "collapsed": true
   },
   "outputs": [],
   "source": []
  },
  {
   "cell_type": "code",
   "execution_count": null,
   "metadata": {
    "collapsed": true
   },
   "outputs": [],
   "source": []
  }
 ],
 "metadata": {
  "kernelspec": {
   "display_name": "Python 3",
   "language": "python",
   "name": "python3"
  },
  "language_info": {
   "codemirror_mode": {
    "name": "ipython",
    "version": 3
   },
   "file_extension": ".py",
   "mimetype": "text/x-python",
   "name": "python",
   "nbconvert_exporter": "python",
   "pygments_lexer": "ipython3",
   "version": "3.6.1"
  }
 },
 "nbformat": 4,
 "nbformat_minor": 2
}
